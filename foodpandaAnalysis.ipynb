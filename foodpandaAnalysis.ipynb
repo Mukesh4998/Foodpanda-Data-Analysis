{
 "cells": [
  {
   "cell_type": "code",
   "execution_count": 1,
   "id": "49902bba-0365-456a-afe8-70466f2d17ce",
   "metadata": {},
   "outputs": [],
   "source": [
    "import matplotlib.pyplot as plt"
   ]
  },
  {
   "cell_type": "code",
   "execution_count": 25,
   "id": "228a2bf2-166a-4bd7-867e-b1878848a437",
   "metadata": {},
   "outputs": [
    {
     "name": "stdout",
     "output_type": "stream",
     "text": [
      "Requirement already satisfied: mysql-connector-python in c:\\users\\user\\anaconda3\\lib\\site-packages (9.4.0)\n"
     ]
    }
   ],
   "source": [
    "!pip install mysql-connector-python"
   ]
  },
  {
   "cell_type": "code",
   "execution_count": 2,
   "id": "956be858-9499-476a-934e-bf14aedbe474",
   "metadata": {},
   "outputs": [],
   "source": [
    "import mysql.connector\n",
    "import pandas as pd\n",
    "import sqlalchemy\n",
    "import warnings\n",
    "warnings.filterwarnings('ignore')"
   ]
  },
  {
   "cell_type": "code",
   "execution_count": 3,
   "id": "40f04abc-3fb3-4e78-8020-543d10438864",
   "metadata": {},
   "outputs": [
    {
     "name": "stdout",
     "output_type": "stream",
     "text": [
      "<mysql.connector.connection_cext.CMySQLConnection object at 0x00000225438AFCB0>\n"
     ]
    }
   ],
   "source": [
    "db=mysql.connector.connect(\n",
    "    host=\"localhost\",\n",
    "    user=\"root\",\n",
    "    password=\"mukesh123@\",\n",
    "    database=\"foodpanda\"\n",
    ")\n",
    "mycursor=db.cursor()\n",
    "print(db)"
   ]
  },
  {
   "cell_type": "code",
   "execution_count": 4,
   "id": "d69dd2ea-e185-44a6-809e-4509fdf7bbfb",
   "metadata": {},
   "outputs": [],
   "source": [
    "query=\"SELECT * FROM orders\"\n",
    "order_data=pd.read_sql(query,db)"
   ]
  },
  {
   "cell_type": "code",
   "execution_count": 65,
   "id": "3898225e-836f-4000-bbd9-7e605f420b57",
   "metadata": {},
   "outputs": [
    {
     "data": {
      "text/html": [
       "<div>\n",
       "<style scoped>\n",
       "    .dataframe tbody tr th:only-of-type {\n",
       "        vertical-align: middle;\n",
       "    }\n",
       "\n",
       "    .dataframe tbody tr th {\n",
       "        vertical-align: top;\n",
       "    }\n",
       "\n",
       "    .dataframe thead th {\n",
       "        text-align: right;\n",
       "    }\n",
       "</style>\n",
       "<table border=\"1\" class=\"dataframe\">\n",
       "  <thead>\n",
       "    <tr style=\"text-align: right;\">\n",
       "      <th></th>\n",
       "      <th>customer_id</th>\n",
       "      <th>gender</th>\n",
       "      <th>age</th>\n",
       "      <th>city</th>\n",
       "      <th>order_id</th>\n",
       "      <th>order_date</th>\n",
       "      <th>signup_date</th>\n",
       "      <th>restaurant_name</th>\n",
       "      <th>dish_name</th>\n",
       "      <th>category</th>\n",
       "      <th>quantity</th>\n",
       "      <th>price</th>\n",
       "      <th>payment_method</th>\n",
       "      <th>order_frequency</th>\n",
       "      <th>last_order_date</th>\n",
       "      <th>loyalty_points</th>\n",
       "      <th>churned</th>\n",
       "      <th>rating</th>\n",
       "      <th>rating_date</th>\n",
       "      <th>delivery_status</th>\n",
       "    </tr>\n",
       "  </thead>\n",
       "  <tbody>\n",
       "    <tr>\n",
       "      <th>0</th>\n",
       "      <td>C6000</td>\n",
       "      <td>Other</td>\n",
       "      <td>Senior</td>\n",
       "      <td>Peshawar</td>\n",
       "      <td>O10000</td>\n",
       "      <td>2024-08-14</td>\n",
       "      <td>2023-11-14</td>\n",
       "      <td>KFC</td>\n",
       "      <td>Pasta</td>\n",
       "      <td>Dessert</td>\n",
       "      <td>4</td>\n",
       "      <td>760.35</td>\n",
       "      <td>Wallet</td>\n",
       "      <td>11</td>\n",
       "      <td>2025-01-16</td>\n",
       "      <td>2</td>\n",
       "      <td>Inactive</td>\n",
       "      <td>5</td>\n",
       "      <td>2025-04-07</td>\n",
       "      <td>Delivered</td>\n",
       "    </tr>\n",
       "    <tr>\n",
       "      <th>1</th>\n",
       "      <td>C6001</td>\n",
       "      <td>Other</td>\n",
       "      <td>Teenager</td>\n",
       "      <td>Peshawar</td>\n",
       "      <td>O10001</td>\n",
       "      <td>2024-11-07</td>\n",
       "      <td>2024-07-31</td>\n",
       "      <td>McDonald's</td>\n",
       "      <td>Pasta</td>\n",
       "      <td>Chinese</td>\n",
       "      <td>3</td>\n",
       "      <td>847.29</td>\n",
       "      <td>Cash</td>\n",
       "      <td>31</td>\n",
       "      <td>2024-11-20</td>\n",
       "      <td>171</td>\n",
       "      <td>Active</td>\n",
       "      <td>5</td>\n",
       "      <td>2025-05-13</td>\n",
       "      <td>Delivered</td>\n",
       "    </tr>\n",
       "    <tr>\n",
       "      <th>2</th>\n",
       "      <td>C6002</td>\n",
       "      <td>Other</td>\n",
       "      <td>Senior</td>\n",
       "      <td>Multan</td>\n",
       "      <td>O10002</td>\n",
       "      <td>2024-03-24</td>\n",
       "      <td>2025-07-16</td>\n",
       "      <td>KFC</td>\n",
       "      <td>Fries</td>\n",
       "      <td>Continental</td>\n",
       "      <td>4</td>\n",
       "      <td>1311.76</td>\n",
       "      <td>Wallet</td>\n",
       "      <td>14</td>\n",
       "      <td>2024-12-05</td>\n",
       "      <td>130</td>\n",
       "      <td>Active</td>\n",
       "      <td>5</td>\n",
       "      <td>2025-06-08</td>\n",
       "      <td>Delivered</td>\n",
       "    </tr>\n",
       "    <tr>\n",
       "      <th>3</th>\n",
       "      <td>C6003</td>\n",
       "      <td>Male</td>\n",
       "      <td>Teenager</td>\n",
       "      <td>Lahore</td>\n",
       "      <td>O10003</td>\n",
       "      <td>2025-04-06</td>\n",
       "      <td>2024-03-08</td>\n",
       "      <td>Burger King</td>\n",
       "      <td>Sandwich</td>\n",
       "      <td>Dessert</td>\n",
       "      <td>4</td>\n",
       "      <td>1046.47</td>\n",
       "      <td>Wallet</td>\n",
       "      <td>7</td>\n",
       "      <td>2024-09-08</td>\n",
       "      <td>401</td>\n",
       "      <td>Active</td>\n",
       "      <td>4</td>\n",
       "      <td>2025-04-29</td>\n",
       "      <td>Delivered</td>\n",
       "    </tr>\n",
       "    <tr>\n",
       "      <th>4</th>\n",
       "      <td>C6004</td>\n",
       "      <td>Male</td>\n",
       "      <td>Adult</td>\n",
       "      <td>Lahore</td>\n",
       "      <td>O10004</td>\n",
       "      <td>2024-03-19</td>\n",
       "      <td>2025-08-04</td>\n",
       "      <td>KFC</td>\n",
       "      <td>Burger</td>\n",
       "      <td>Chinese</td>\n",
       "      <td>3</td>\n",
       "      <td>702.15</td>\n",
       "      <td>Wallet</td>\n",
       "      <td>50</td>\n",
       "      <td>2024-10-08</td>\n",
       "      <td>167</td>\n",
       "      <td>Inactive</td>\n",
       "      <td>4</td>\n",
       "      <td>2024-12-08</td>\n",
       "      <td>Cancelled</td>\n",
       "    </tr>\n",
       "  </tbody>\n",
       "</table>\n",
       "</div>"
      ],
      "text/plain": [
       "  customer_id gender       age      city order_id  order_date signup_date  \\\n",
       "0       C6000  Other    Senior  Peshawar   O10000  2024-08-14  2023-11-14   \n",
       "1       C6001  Other  Teenager  Peshawar   O10001  2024-11-07  2024-07-31   \n",
       "2       C6002  Other    Senior    Multan   O10002  2024-03-24  2025-07-16   \n",
       "3       C6003   Male  Teenager    Lahore   O10003  2025-04-06  2024-03-08   \n",
       "4       C6004   Male     Adult    Lahore   O10004  2024-03-19  2025-08-04   \n",
       "\n",
       "  restaurant_name dish_name     category  quantity    price payment_method  \\\n",
       "0             KFC     Pasta      Dessert         4   760.35         Wallet   \n",
       "1      McDonald's     Pasta      Chinese         3   847.29           Cash   \n",
       "2             KFC     Fries  Continental         4  1311.76         Wallet   \n",
       "3     Burger King  Sandwich      Dessert         4  1046.47         Wallet   \n",
       "4             KFC    Burger      Chinese         3   702.15         Wallet   \n",
       "\n",
       "   order_frequency last_order_date  loyalty_points   churned  rating  \\\n",
       "0               11      2025-01-16               2  Inactive       5   \n",
       "1               31      2024-11-20             171    Active       5   \n",
       "2               14      2024-12-05             130    Active       5   \n",
       "3                7      2024-09-08             401    Active       4   \n",
       "4               50      2024-10-08             167  Inactive       4   \n",
       "\n",
       "  rating_date delivery_status  \n",
       "0  2025-04-07       Delivered  \n",
       "1  2025-05-13       Delivered  \n",
       "2  2025-06-08       Delivered  \n",
       "3  2025-04-29       Delivered  \n",
       "4  2024-12-08       Cancelled  "
      ]
     },
     "execution_count": 65,
     "metadata": {},
     "output_type": "execute_result"
    }
   ],
   "source": [
    "order_data.head()"
   ]
  },
  {
   "cell_type": "code",
   "execution_count": 66,
   "id": "d33ea47a-8ac5-4bd6-b38a-21a27e95face",
   "metadata": {},
   "outputs": [
    {
     "data": {
      "text/plain": [
       "(6000, 20)"
      ]
     },
     "execution_count": 66,
     "metadata": {},
     "output_type": "execute_result"
    }
   ],
   "source": [
    "order_data.shape"
   ]
  },
  {
   "cell_type": "code",
   "execution_count": 67,
   "id": "a44007d2-0e4a-4370-ba8e-f93acbf7fafd",
   "metadata": {},
   "outputs": [
    {
     "data": {
      "text/plain": [
       "Index(['customer_id', 'gender', 'age', 'city', 'order_id', 'order_date',\n",
       "       'signup_date', 'restaurant_name', 'dish_name', 'category', 'quantity',\n",
       "       'price', 'payment_method', 'order_frequency', 'last_order_date',\n",
       "       'loyalty_points', 'churned', 'rating', 'rating_date',\n",
       "       'delivery_status'],\n",
       "      dtype='object')"
      ]
     },
     "execution_count": 67,
     "metadata": {},
     "output_type": "execute_result"
    }
   ],
   "source": [
    "order_data.columns"
   ]
  },
  {
   "cell_type": "code",
   "execution_count": 68,
   "id": "ebe61a97-0fba-4ce0-9f5d-57d1a55f54b7",
   "metadata": {},
   "outputs": [
    {
     "name": "stdout",
     "output_type": "stream",
     "text": [
      "<class 'pandas.core.frame.DataFrame'>\n",
      "RangeIndex: 6000 entries, 0 to 5999\n",
      "Data columns (total 20 columns):\n",
      " #   Column           Non-Null Count  Dtype  \n",
      "---  ------           --------------  -----  \n",
      " 0   customer_id      6000 non-null   object \n",
      " 1   gender           6000 non-null   object \n",
      " 2   age              6000 non-null   object \n",
      " 3   city             6000 non-null   object \n",
      " 4   order_id         6000 non-null   object \n",
      " 5   order_date       6000 non-null   object \n",
      " 6   signup_date      6000 non-null   object \n",
      " 7   restaurant_name  6000 non-null   object \n",
      " 8   dish_name        6000 non-null   object \n",
      " 9   category         6000 non-null   object \n",
      " 10  quantity         6000 non-null   int64  \n",
      " 11  price            6000 non-null   float64\n",
      " 12  payment_method   6000 non-null   object \n",
      " 13  order_frequency  6000 non-null   int64  \n",
      " 14  last_order_date  6000 non-null   object \n",
      " 15  loyalty_points   6000 non-null   int64  \n",
      " 16  churned          6000 non-null   object \n",
      " 17  rating           6000 non-null   int64  \n",
      " 18  rating_date      6000 non-null   object \n",
      " 19  delivery_status  6000 non-null   object \n",
      "dtypes: float64(1), int64(4), object(15)\n",
      "memory usage: 937.6+ KB\n"
     ]
    }
   ],
   "source": [
    "order_data.info()"
   ]
  },
  {
   "cell_type": "code",
   "execution_count": 69,
   "id": "7f916490-2fc3-4a94-88a4-7e3f31de628a",
   "metadata": {},
   "outputs": [
    {
     "data": {
      "text/html": [
       "<div>\n",
       "<style scoped>\n",
       "    .dataframe tbody tr th:only-of-type {\n",
       "        vertical-align: middle;\n",
       "    }\n",
       "\n",
       "    .dataframe tbody tr th {\n",
       "        vertical-align: top;\n",
       "    }\n",
       "\n",
       "    .dataframe thead th {\n",
       "        text-align: right;\n",
       "    }\n",
       "</style>\n",
       "<table border=\"1\" class=\"dataframe\">\n",
       "  <thead>\n",
       "    <tr style=\"text-align: right;\">\n",
       "      <th></th>\n",
       "      <th>quantity</th>\n",
       "      <th>price</th>\n",
       "      <th>order_frequency</th>\n",
       "      <th>loyalty_points</th>\n",
       "      <th>rating</th>\n",
       "    </tr>\n",
       "  </thead>\n",
       "  <tbody>\n",
       "    <tr>\n",
       "      <th>count</th>\n",
       "      <td>6000.000000</td>\n",
       "      <td>6000.000000</td>\n",
       "      <td>6000.000000</td>\n",
       "      <td>6000.000000</td>\n",
       "      <td>6000.000000</td>\n",
       "    </tr>\n",
       "    <tr>\n",
       "      <th>mean</th>\n",
       "      <td>2.991667</td>\n",
       "      <td>800.524880</td>\n",
       "      <td>25.304667</td>\n",
       "      <td>250.173667</td>\n",
       "      <td>2.996833</td>\n",
       "    </tr>\n",
       "    <tr>\n",
       "      <th>std</th>\n",
       "      <td>1.414778</td>\n",
       "      <td>404.855029</td>\n",
       "      <td>14.358930</td>\n",
       "      <td>144.608478</td>\n",
       "      <td>1.406113</td>\n",
       "    </tr>\n",
       "    <tr>\n",
       "      <th>min</th>\n",
       "      <td>1.000000</td>\n",
       "      <td>100.300000</td>\n",
       "      <td>1.000000</td>\n",
       "      <td>0.000000</td>\n",
       "      <td>1.000000</td>\n",
       "    </tr>\n",
       "    <tr>\n",
       "      <th>25%</th>\n",
       "      <td>2.000000</td>\n",
       "      <td>441.997500</td>\n",
       "      <td>13.000000</td>\n",
       "      <td>125.000000</td>\n",
       "      <td>2.000000</td>\n",
       "    </tr>\n",
       "    <tr>\n",
       "      <th>50%</th>\n",
       "      <td>3.000000</td>\n",
       "      <td>806.460000</td>\n",
       "      <td>25.000000</td>\n",
       "      <td>249.500000</td>\n",
       "      <td>3.000000</td>\n",
       "    </tr>\n",
       "    <tr>\n",
       "      <th>75%</th>\n",
       "      <td>4.000000</td>\n",
       "      <td>1149.737500</td>\n",
       "      <td>37.000000</td>\n",
       "      <td>378.000000</td>\n",
       "      <td>4.000000</td>\n",
       "    </tr>\n",
       "    <tr>\n",
       "      <th>max</th>\n",
       "      <td>5.000000</td>\n",
       "      <td>1499.950000</td>\n",
       "      <td>50.000000</td>\n",
       "      <td>500.000000</td>\n",
       "      <td>5.000000</td>\n",
       "    </tr>\n",
       "  </tbody>\n",
       "</table>\n",
       "</div>"
      ],
      "text/plain": [
       "          quantity        price  order_frequency  loyalty_points       rating\n",
       "count  6000.000000  6000.000000      6000.000000     6000.000000  6000.000000\n",
       "mean      2.991667   800.524880        25.304667      250.173667     2.996833\n",
       "std       1.414778   404.855029        14.358930      144.608478     1.406113\n",
       "min       1.000000   100.300000         1.000000        0.000000     1.000000\n",
       "25%       2.000000   441.997500        13.000000      125.000000     2.000000\n",
       "50%       3.000000   806.460000        25.000000      249.500000     3.000000\n",
       "75%       4.000000  1149.737500        37.000000      378.000000     4.000000\n",
       "max       5.000000  1499.950000        50.000000      500.000000     5.000000"
      ]
     },
     "execution_count": 69,
     "metadata": {},
     "output_type": "execute_result"
    }
   ],
   "source": [
    "order_data.describe()"
   ]
  },
  {
   "cell_type": "code",
   "execution_count": 70,
   "id": "d2bdbb8a-f05e-4e78-847c-f5e2c9ef6f75",
   "metadata": {},
   "outputs": [],
   "source": [
    "# 📊 Customer Insights"
   ]
  },
  {
   "cell_type": "code",
   "execution_count": 71,
   "id": "7fb1da2d-83f2-4202-8760-c948b2e2bd0a",
   "metadata": {},
   "outputs": [
    {
     "name": "stdout",
     "output_type": "stream",
     "text": [
      "        city  Total_customers\n",
      "0  Islamabad             1187\n",
      "1    Karachi             1145\n",
      "2     Lahore             1217\n",
      "3     Multan             1256\n",
      "4   Peshawar             1195\n"
     ]
    }
   ],
   "source": [
    "# 1. Total customers by city\n",
    "query=\"\"\"\n",
    "SELECT city, COUNT(DISTINCT customer_id) as Total_customers\n",
    "FROM orders GROUP BY CITY\n",
    "\"\"\"\n",
    "df=pd.read_sql(query,db)\n",
    "print(df)"
   ]
  },
  {
   "cell_type": "code",
   "execution_count": 44,
   "id": "ef4e8d34-10a5-4d36-87a7-daa9a12c987d",
   "metadata": {},
   "outputs": [
    {
     "name": "stdout",
     "output_type": "stream",
     "text": [
      "   gender  Total\n",
      "0   Other   1965\n",
      "1    Male   2017\n",
      "2  Female   2018\n"
     ]
    }
   ],
   "source": [
    "# Q2: Give the gender distribution of customers? \n",
    "query=\"\"\"\n",
    "SELECT gender, COUNT(*) as Total\n",
    "FROM orders GROUP BY gender\n",
    "\"\"\"\n",
    "df=pd.read_sql(query,db)\n",
    "print(df)"
   ]
  },
  {
   "cell_type": "code",
   "execution_count": 45,
   "id": "61d0b467-be7d-42e4-9573-7fc7e090b8fa",
   "metadata": {},
   "outputs": [
    {
     "name": "stdout",
     "output_type": "stream",
     "text": [
      "   avg_orders_per_customer\n",
      "0                  25.3047\n"
     ]
    }
   ],
   "source": [
    "# Q3: What is the average number of lifetime orders per customer?\n",
    "query=\"\"\"\n",
    "SELECT AVG(order_frequency) AS avg_orders_per_customer \n",
    "FROM orders;\n",
    "\"\"\"\n",
    "df=pd.read_sql(query,db)\n",
    "print(df)"
   ]
  },
  {
   "cell_type": "code",
   "execution_count": 46,
   "id": "c4f36288-cce0-40da-a62d-6b699a05668e",
   "metadata": {},
   "outputs": [
    {
     "name": "stdout",
     "output_type": "stream",
     "text": [
      "  customer_id  loyalty_points\n",
      "0       C6315             500\n",
      "1       C6952             500\n",
      "2       C6363             500\n",
      "3       C1120             500\n",
      "4       C1480             500\n"
     ]
    }
   ],
   "source": [
    "# Q4: Who are the top 5 most loyal customers based on loyalty points?  \n",
    "query=\"\"\"\n",
    "SELECT customer_id, loyalty_points  \n",
    "FROM orders ORDER BY loyalty_points DESC LIMIT 5 ;\n",
    "\"\"\"\n",
    "df=pd.read_sql(query,db)\n",
    "print(df)"
   ]
  },
  {
   "cell_type": "code",
   "execution_count": 6,
   "id": "bb7d088e-af84-44cd-a1c1-3cdf748ad449",
   "metadata": {},
   "outputs": [
    {
     "name": "stdout",
     "output_type": "stream",
     "text": [
      "    churned  count(*)\n",
      "0  Inactive      2984\n",
      "1    Active      3016\n"
     ]
    }
   ],
   "source": [
    "# Q5: How many customers are active vs inactive?  \n",
    "query=\"\"\"\n",
    "SELECT churned, count(*)\n",
    "FROM orders GROUP BY churned;\n",
    "\"\"\"\n",
    "df=pd.read_sql(query,db)\n",
    "print(df)"
   ]
  },
  {
   "cell_type": "code",
   "execution_count": null,
   "id": "555331e7-1175-4307-a976-901481dbc3d5",
   "metadata": {},
   "outputs": [],
   "source": [
    "# 💰 Sales & Revenue"
   ]
  },
  {
   "cell_type": "code",
   "execution_count": 7,
   "id": "feb8dc65-e326-40bb-9eab-dd5f8c27f411",
   "metadata": {},
   "outputs": [
    {
     "name": "stdout",
     "output_type": "stream",
     "text": [
      "   Total_revenue\n",
      "0    14343912.08\n"
     ]
    }
   ],
   "source": [
    "# Q6: What is the total revenue generated overall?  \n",
    "query=\"\"\"\n",
    "SELECT SUM(price*quantity) as Total_revenue\n",
    "FROM orders\n",
    "\"\"\"\n",
    "df=pd.read_sql(query,db)\n",
    "print(df)"
   ]
  },
  {
   "cell_type": "code",
   "execution_count": 10,
   "id": "fd2a287c-fdb2-424f-895c-8bf7e4c0f2de",
   "metadata": {},
   "outputs": [
    {
     "name": "stdout",
     "output_type": "stream",
     "text": [
      "        city  City_revenue\n",
      "0     Multan    3052313.80\n",
      "1     Lahore    2916372.35\n",
      "2   Peshawar    2906686.38\n",
      "3  Islamabad    2835310.27\n",
      "4    Karachi    2633229.28\n"
     ]
    }
   ],
   "source": [
    "# Q7: How much revenue does each city generate?  \n",
    "query=\"\"\"\n",
    "SELECT city, SUM(price*quantity) as City_revenue\n",
    "FROM orders\n",
    "GROUP BY city \n",
    "ORDER BY City_revenue DESC\n",
    "\"\"\"\n",
    "df=pd.read_sql(query,db)\n",
    "print(df)"
   ]
  },
  {
   "cell_type": "code",
   "execution_count": 12,
   "id": "f88f4de6-6b4f-453c-929b-c07cd1f8dfe6",
   "metadata": {},
   "outputs": [
    {
     "name": "stdout",
     "output_type": "stream",
     "text": [
      "  restaurant_name  Top_resto_rev\n",
      "0       Pizza Hut     3002380.59\n",
      "1          Subway     2998014.27\n",
      "2             KFC     2954233.45\n",
      "3     Burger King     2752780.87\n",
      "4      McDonald's     2636502.90\n"
     ]
    }
   ],
   "source": [
    " # Q8: Which are the top 5 restaurants by revenue?  \n",
    "query=\"\"\"\n",
    "SELECT restaurant_name, SUM(price*quantity) as Top_resto_rev\n",
    "FROM orders\n",
    "GROUP BY restaurant_name\n",
    "ORDER BY Top_resto_rev DESC LIMIT 5\n",
    "\"\"\"\n",
    "df=pd.read_sql(query,db)\n",
    "print(df)"
   ]
  },
  {
   "cell_type": "code",
   "execution_count": 13,
   "id": "87339ff5-a09e-4158-ade6-b9a318ee77df",
   "metadata": {},
   "outputs": [
    {
     "name": "stdout",
     "output_type": "stream",
     "text": [
      "  dish_name  Most_sold_dish\n",
      "0     Pasta      3078850.36\n"
     ]
    }
   ],
   "source": [
    "# Q9: Which dish is the most sold overall? \n",
    "query=\"\"\"\n",
    "SELECT dish_name, SUM(price*quantity) as Most_sold_dish\n",
    "FROM orders\n",
    "GROUP BY dish_name\n",
    "ORDER BY Most_sold_dish DESC LIMIT 1\n",
    "\"\"\"\n",
    "df=pd.read_sql(query,db)\n",
    "print(df)"
   ]
  },
  {
   "cell_type": "code",
   "execution_count": 16,
   "id": "d227116b-cd5e-4373-8156-e432645551df",
   "metadata": {},
   "outputs": [
    {
     "name": "stdout",
     "output_type": "stream",
     "text": [
      "      Month  Monthly_revenue\n",
      "0   2023-08        173278.01\n",
      "1   2023-09        696622.20\n",
      "2   2023-10        665298.47\n",
      "3   2023-11        531467.85\n",
      "4   2023-12        671064.46\n",
      "5   2024-01        672698.48\n",
      "6   2024-02        502002.28\n",
      "7   2024-03        558305.99\n",
      "8   2024-04        634813.26\n",
      "9   2024-05        556435.44\n",
      "10  2024-06        616952.97\n",
      "11  2024-07        617071.18\n",
      "12  2024-08        562486.28\n",
      "13  2024-09        600866.88\n",
      "14  2024-10        590091.22\n",
      "15  2024-11        625472.42\n",
      "16  2024-12        591899.77\n",
      "17  2025-01        643669.36\n",
      "18  2025-02        594787.21\n",
      "19  2025-03        683896.55\n",
      "20  2025-04        515852.35\n",
      "21  2025-05        525369.44\n",
      "22  2025-06        548905.71\n",
      "23  2025-07        522188.18\n",
      "24  2025-08        442416.12\n"
     ]
    }
   ],
   "source": [
    "# Q10: What is the monthly revenue trend?  \n",
    "query=\"\"\"\n",
    "SELECT DATE_FORMAT(order_date, '%Y-%m') AS Month,\n",
    "SUM(price*quantity) as Monthly_revenue\n",
    "FROM orders\n",
    "GROUP BY Month\n",
    "ORDER BY Month\n",
    "\"\"\"\n",
    "df=pd.read_sql(query,db)\n",
    "print(df)"
   ]
  },
  {
   "cell_type": "code",
   "execution_count": null,
   "id": "1b313604-8cd2-4e05-898f-64e1b2dcce32",
   "metadata": {},
   "outputs": [],
   "source": [
    "# 🚚 Operations"
   ]
  },
  {
   "cell_type": "code",
   "execution_count": 17,
   "id": "f887b0ba-1e67-400a-a426-596f7e3ae1f7",
   "metadata": {},
   "outputs": [
    {
     "name": "stdout",
     "output_type": "stream",
     "text": [
      "  delivery_status  COUNT(*)\n",
      "0       Delivered      2060\n",
      "1       Cancelled      1968\n",
      "2         Delayed      1972\n"
     ]
    }
   ],
   "source": [
    "# Q11: How many orders fall into each delivery status category?  \n",
    "query=\"\"\"\n",
    "SELEct delivery_status, COUNT(*) \n",
    "FROM orders \n",
    "GROUP BY delivery_status;\n",
    "\"\"\"\n",
    "df=pd.read_sql(query,db)\n",
    "print(df)"
   ]
  },
  {
   "cell_type": "code",
   "execution_count": 22,
   "id": "66d796f7-4972-4d97-b2bf-d331c1c28870",
   "metadata": {},
   "outputs": [
    {
     "name": "stdout",
     "output_type": "stream",
     "text": [
      "   Average_quantity\n",
      "0            2.9917\n"
     ]
    }
   ],
   "source": [
    "# Q12: What is the average order size (items per order)?  \n",
    "query=\"\"\"\n",
    "SELECT avg(quantity) as Average_quantity\n",
    "FROM orders \n",
    "\"\"\"\n",
    "df=pd.read_sql(query,db)\n",
    "print(df)"
   ]
  },
  {
   "cell_type": "code",
   "execution_count": 24,
   "id": "80f5623f-9f41-4347-8736-4e4b37cf8de3",
   "metadata": {},
   "outputs": [
    {
     "name": "stdout",
     "output_type": "stream",
     "text": [
      "   Average_rating\n",
      "0          2.9968\n"
     ]
    }
   ],
   "source": [
    "# Q13: What is the average delivery rating?  \n",
    "query=\"\"\"\n",
    "SELECT avg(rating) as Average_rating\n",
    "FROM orders \n",
    "\"\"\"\n",
    "df=pd.read_sql(query,db)\n",
    "print(df)"
   ]
  },
  {
   "cell_type": "code",
   "execution_count": 32,
   "id": "7e6f5f3b-3cb6-42fd-97fe-f7c9ffdcc4f6",
   "metadata": {},
   "outputs": [
    {
     "name": "stdout",
     "output_type": "stream",
     "text": [
      "        city  delay_rate_percentage\n",
      "0   Peshawar                33.3891\n",
      "1  Islamabad                32.9402\n",
      "2    Karachi                32.8384\n",
      "3     Multan                32.6433\n",
      "4     Lahore                32.5390\n"
     ]
    }
   ],
   "source": [
    "# Q14: Which cities have the highest delivery delay rates? \n",
    "query=\"\"\"\n",
    "SELECT city, SUM(delivery_status='Delayed') / COUNT(*) * 100 AS delay_rate_percentage\n",
    "FROM orders \n",
    "GROUP BY city\n",
    "ORDER BY delay_rate_percentage DESC; \n",
    "\"\"\"\n",
    "df=pd.read_sql(query,db)\n",
    "print(df)"
   ]
  },
  {
   "cell_type": "code",
   "execution_count": 35,
   "id": "290de3c6-2881-4d44-a84a-ac45095c863c",
   "metadata": {},
   "outputs": [
    {
     "name": "stdout",
     "output_type": "stream",
     "text": [
      "         Day  Total_order\n",
      "0     Monday          892\n",
      "1     Friday          878\n",
      "2     Sunday          877\n",
      "3   Thursday          864\n",
      "4   Saturday          864\n",
      "5    Tuesday          813\n",
      "6  Wednesday          812\n"
     ]
    }
   ],
   "source": [
    "# Q15: What is the peak order day of the week?  \n",
    "query=\"\"\"\n",
    "SELECT DAYNAME(order_date) as Day, COUNT(*) as Total_order\n",
    "FROM orders \n",
    "GROUP BY Day\n",
    "ORDER BY Total_order DESC; \n",
    "\"\"\"\n",
    "df=pd.read_sql(query,db)\n",
    "print(df)"
   ]
  },
  {
   "cell_type": "code",
   "execution_count": null,
   "id": "63db661a-0162-47a5-a301-5f2b6dca7f73",
   "metadata": {},
   "outputs": [],
   "source": [
    "# 🎯 Marketing"
   ]
  },
  {
   "cell_type": "code",
   "execution_count": 38,
   "id": "6f708ab4-aef8-4ba4-bd67-36bf11f617d6",
   "metadata": {},
   "outputs": [
    {
     "name": "stdout",
     "output_type": "stream",
     "text": [
      "      month  Acquired_cus_each_month\n",
      "0   2023-08                       85\n",
      "1   2023-09                      255\n",
      "2   2023-10                      275\n",
      "3   2023-11                      246\n",
      "4   2023-12                      244\n",
      "5   2024-01                      226\n",
      "6   2024-02                      261\n",
      "7   2024-03                      249\n",
      "8   2024-04                      238\n",
      "9   2024-05                      280\n",
      "10  2024-06                      250\n",
      "11  2024-07                      251\n",
      "12  2024-08                      292\n",
      "13  2024-09                      221\n",
      "14  2024-10                      240\n",
      "15  2024-11                      231\n",
      "16  2024-12                      257\n",
      "17  2025-01                      243\n",
      "18  2025-02                      231\n",
      "19  2025-03                      231\n",
      "20  2025-04                      245\n",
      "21  2025-05                      265\n",
      "22  2025-06                      249\n",
      "23  2025-07                      263\n",
      "24  2025-08                      172\n"
     ]
    }
   ],
   "source": [
    "# Q16: How many customers were acquired each month? \n",
    "query=\"\"\"\n",
    "SELECT DATE_FORMAT(signup_date, '%Y-%m') AS month, COUNT(DISTINCT customer_id)as Acquired_cus_each_month\n",
    "FROM orders \n",
    "GROUP BY month \n",
    "ORDER BY month;\n",
    "\"\"\"\n",
    "df=pd.read_sql(query,db)\n",
    "print(df)"
   ]
  },
  {
   "cell_type": "code",
   "execution_count": 74,
   "id": "c0050fe2-b7e0-4ace-b984-15f1632eff06",
   "metadata": {},
   "outputs": [
    {
     "name": "stdout",
     "output_type": "stream",
     "text": [
      "      category  total_sales\n",
      "0      Italian   3006032.50\n",
      "1  Continental   2928524.26\n",
      "2      Chinese   2889236.97\n",
      "3    Fast Food   2870929.69\n",
      "4      Dessert   2649188.66\n"
     ]
    }
   ],
   "source": [
    "# Q17: What are the sales by food category?  \n",
    "query=\"\"\"\n",
    "SELECT category,SUM(price*quantity) as total_sales\n",
    "FROM orders \n",
    "GROUP BY category\n",
    "ORDER BY total_sales DESC\n",
    "\"\"\"\n",
    "df=pd.read_sql(query,db)\n",
    "print(df)"
   ]
  },
  {
   "cell_type": "code",
   "execution_count": 44,
   "id": "d05983ca-a5fc-4f9e-8710-3dc70ab64813",
   "metadata": {},
   "outputs": [
    {
     "name": "stdout",
     "output_type": "stream",
     "text": [
      "  payment_method  total\n",
      "0           Cash   2039\n",
      "1           Card   2002\n",
      "2         Wallet   1959\n"
     ]
    }
   ],
   "source": [
    "# Q18: What are the most popular payment methods? \n",
    "query=\"\"\"\n",
    "SELECT payment_method, COUNT(*) as total\n",
    "FROM orders \n",
    "GROUP BY payment_method\n",
    "ORDER BY total DESC\n",
    "\"\"\"\n",
    "df=pd.read_sql(query,db)\n",
    "print(df)"
   ]
  },
  {
   "cell_type": "code",
   "execution_count": 48,
   "id": "8afe1e12-241c-4891-908d-bc58fc9bb4da",
   "metadata": {},
   "outputs": [
    {
     "name": "stdout",
     "output_type": "stream",
     "text": [
      "   churn_rate\n",
      "0     49.7333\n"
     ]
    }
   ],
   "source": [
    "# Q19: What is the customer churn rate?\n",
    "query=\"\"\"\n",
    "SELECT (SUM(churned='Inactive') / COUNT(*)) * 100 AS churn_rate\n",
    "FROM orders\n",
    "\"\"\"\n",
    "df=pd.read_sql(query,db)\n",
    "print(df)"
   ]
  },
  {
   "cell_type": "code",
   "execution_count": 77,
   "id": "a2e6c283-4ee7-4328-96af-89aee19e8ec5",
   "metadata": {},
   "outputs": [
    {
     "name": "stdout",
     "output_type": "stream",
     "text": [
      "   customer_id  total_spent\n",
      "0        C3134      7496.85\n",
      "1        C2515      7495.05\n",
      "2        C6021      7494.65\n",
      "3        C2857      7493.60\n",
      "4        C3320      7491.80\n",
      "..         ...          ...\n",
      "85       C5888      7030.20\n",
      "86       C2369      7017.90\n",
      "87       C3099      7015.75\n",
      "88       C5711      7011.05\n",
      "89       C6074      7010.40\n",
      "\n",
      "[90 rows x 2 columns]\n"
     ]
    }
   ],
   "source": [
    "# Q20: Who are the high-value customers (spent > 7,000)?\n",
    "query=\"\"\"\n",
    "SELECT customer_id, SUM(price * quantity) AS total_spent\n",
    "FROM orders \n",
    "GROUP BY customer_id \n",
    "HAVING total_spent > 7000\n",
    "ORDER BY total_spent DESC\n",
    "\"\"\"\n",
    "df=pd.read_sql(query,db)\n",
    "print(df)"
   ]
  },
  {
   "cell_type": "code",
   "execution_count": 80,
   "id": "157a5267-3409-4c7d-8c3f-fd162ac04f37",
   "metadata": {},
   "outputs": [
    {
     "name": "stdout",
     "output_type": "stream",
     "text": [
      "        city  avg_loyalty_point\n",
      "0   Peshawar           245.5565\n",
      "1     Multan           252.1425\n",
      "2     Lahore           249.3377\n",
      "3  Islamabad           250.0699\n",
      "4    Karachi           253.8288\n"
     ]
    }
   ],
   "source": [
    "# 🔁 Retention & Loyalty\n",
    "# Q21: What is the average loyalty points by city? \n",
    "query=\"\"\"\n",
    "SELECT city, AVG(loyalty_points) as avg_loyalty_point\n",
    "FROM orders\n",
    "GROUP BY city\n",
    "\"\"\"\n",
    "df=pd.read_sql(query,db)\n",
    "print(df)"
   ]
  },
  {
   "cell_type": "code",
   "execution_count": 81,
   "id": "dba0434e-6af3-4839-bcbf-9178a99b8494",
   "metadata": {},
   "outputs": [
    {
     "name": "stdout",
     "output_type": "stream",
     "text": [
      "    churned  avg_rating\n",
      "0  Inactive      3.0211\n",
      "1    Active      2.9728\n"
     ]
    }
   ],
   "source": [
    "# Q22: Is there a correlation between churn and ratings?  \n",
    "query=\"\"\"\n",
    "SELECT churned, AVG(rating) AS avg_rating \n",
    "FROM orders \n",
    "GROUP BY churned;\n",
    "\"\"\"\n",
    "df=pd.read_sql(query,db)\n",
    "print(df)"
   ]
  },
  {
   "cell_type": "code",
   "execution_count": 87,
   "id": "c421ba1a-b978-4164-a40c-adab710cfcfd",
   "metadata": {},
   "outputs": [
    {
     "name": "stdout",
     "output_type": "stream",
     "text": [
      "   repeat_purchase_rate\n",
      "0               99.9833\n"
     ]
    }
   ],
   "source": [
    "# Q23: What is the repeat purchase rate? \n",
    "query=\"\"\"\n",
    "SELECT (COUNT(DISTINCT customer_id) - SUM(DISTINCT order_frequency=1 ))\n",
    "       / COUNT(DISTINCT customer_id) * 100 AS repeat_purchase_rate\n",
    "FROM orders;\n",
    "\"\"\"\n",
    "df=pd.read_sql(query,db)\n",
    "print(df)"
   ]
  },
  {
   "cell_type": "code",
   "execution_count": 88,
   "id": "c4924153-5788-4002-85a6-9457eda25c4a",
   "metadata": {},
   "outputs": [
    {
     "name": "stdout",
     "output_type": "stream",
     "text": [
      "  customer_id signup_date\n",
      "0       C6037  2023-08-22\n"
     ]
    }
   ],
   "source": [
    "# Q24: Who is the longest active customer?  \n",
    "query=\"\"\"\n",
    "SELECT customer_id, signup_date \n",
    "FROM orders \n",
    "WHERE churned='Active' \n",
    "ORDER BY signup_date ASC \n",
    "LIMIT 1\n",
    "\"\"\"\n",
    "df=pd.read_sql(query,db)\n",
    "print(df)"
   ]
  },
  {
   "cell_type": "code",
   "execution_count": 91,
   "id": "3e886e2d-fbdb-4012-b7d6-4fe163a8128f",
   "metadata": {},
   "outputs": [
    {
     "name": "stdout",
     "output_type": "stream",
     "text": [
      "    churned  Average_revenue\n",
      "0  Inactive      2370.199400\n",
      "1    Active      2410.887623\n"
     ]
    }
   ],
   "source": [
    "# Q25: What is the average revenue per active vs inactive customer? \n",
    "query=\"\"\"\n",
    "SELECT churned ,AVG(price*quantity) as Average_revenue\n",
    "FROM orders\n",
    "GROUP BY churned\n",
    "\"\"\"\n",
    "df=pd.read_sql(query,db)\n",
    "print(df)"
   ]
  },
  {
   "cell_type": "code",
   "execution_count": 92,
   "id": "918e985e-5b9b-4c92-a703-a1bac29b0671",
   "metadata": {},
   "outputs": [
    {
     "name": "stdout",
     "output_type": "stream",
     "text": [
      "     customer_id last_purchase  frequency  monetary\n",
      "0          C6000    2024-08-14          1   3041.40\n",
      "1          C6001    2024-11-07          1   2541.87\n",
      "2          C6002    2024-03-24          1   5247.04\n",
      "3          C6003    2025-04-06          1   4185.88\n",
      "4          C6004    2024-03-19          1   2106.45\n",
      "...          ...           ...        ...       ...\n",
      "5995       C5995    2025-02-11          1   1619.12\n",
      "5996       C5996    2025-08-04          1   4535.76\n",
      "5997       C5997    2024-12-18          1   2770.56\n",
      "5998       C5998    2025-05-21          1   1496.02\n",
      "5999       C5999    2025-01-26          1   3876.00\n",
      "\n",
      "[6000 rows x 4 columns]\n"
     ]
    }
   ],
   "source": [
    "# Q26: Build RFM base table for customer segmentation\n",
    "query=\"\"\"\n",
    "SELECT customer_id,\n",
    "       MAX(order_date) AS last_purchase,\n",
    "       COUNT(order_id) AS frequency,\n",
    "       SUM(price * quantity) AS monetary\n",
    "FROM orders \n",
    "GROUP BY customer_id;\n",
    "\"\"\"\n",
    "df=pd.read_sql(query,db)\n",
    "print(df)"
   ]
  },
  {
   "cell_type": "code",
   "execution_count": 93,
   "id": "b0c32008-d46e-471d-b79e-690d88a36a7d",
   "metadata": {},
   "outputs": [
    {
     "name": "stdout",
     "output_type": "stream",
     "text": [
      "        city  growth_rate\n",
      "0     Multan        50.24\n",
      "1     Lahore        48.68\n",
      "2   Peshawar        47.80\n",
      "3  Islamabad        47.48\n",
      "4    Karachi        45.80\n"
     ]
    }
   ],
   "source": [
    "# Q27: Which cities have the highest customer growth rate?  \n",
    "query=\"\"\"\n",
    "SELECT city, COUNT(DISTINCT customer_id) / COUNT(DISTINCT DATE_FORMAT(signup_date,'%Y-%m')) AS growth_rate\n",
    "FROM orders \n",
    "GROUP BY city \n",
    "ORDER BY growth_rate DESC;\n",
    "\"\"\"\n",
    "df=pd.read_sql(query,db)\n",
    "print(df)"
   ]
  },
  {
   "cell_type": "code",
   "execution_count": 95,
   "id": "7c68ee3a-3454-4a9a-89bf-aeafcc527c52",
   "metadata": {},
   "outputs": [
    {
     "name": "stdout",
     "output_type": "stream",
     "text": [
      "  restaurant_name  Average_rating\n",
      "0          Subway          3.0873\n"
     ]
    }
   ],
   "source": [
    "# Q28: Which restaurant has the best average rating? \n",
    "query=\"\"\"\n",
    "SELECT restaurant_name,AVG(rating) as Average_rating\n",
    "FROM orders\n",
    "GROUP BY restaurant_name\n",
    "ORDER BY Average_rating DESC LIMIT 1\n",
    "\"\"\"\n",
    "df=pd.read_sql(query,db)\n",
    "print(df)"
   ]
  },
  {
   "cell_type": "code",
   "execution_count": 5,
   "id": "77174217-21bd-4bd8-8429-894abe73ad7e",
   "metadata": {},
   "outputs": [
    {
     "name": "stdout",
     "output_type": "stream",
     "text": [
      "    customer_id  loyalty_points  avg_rating\n",
      "0         C6013              27         1.0\n",
      "1         C6038              11         1.0\n",
      "2         C6045              21         2.0\n",
      "3         C6057              20         2.0\n",
      "4         C6097               4         2.0\n",
      "..          ...             ...         ...\n",
      "236       C5920               9         2.0\n",
      "237       C5948              27         1.0\n",
      "238       C5964              26         1.0\n",
      "239       C5985              12         1.0\n",
      "240       C5987              45         1.0\n",
      "\n",
      "[241 rows x 3 columns]\n"
     ]
    }
   ],
   "source": [
    "# Q29: Which customers are at risk of churn (low loyalty + low ratings)?  \n",
    "query=\"\"\"\n",
    "SELECT customer_id, loyalty_points, AVG(rating) AS avg_rating\n",
    "FROM orders \n",
    "GROUP BY customer_id, loyalty_points\n",
    "HAVING loyalty_points < 50 AND avg_rating < 3;\n",
    "\"\"\"\n",
    "df=pd.read_sql(query,db)\n",
    "print(df)"
   ]
  },
  {
   "cell_type": "code",
   "execution_count": null,
   "id": "778c4e9e-8da7-4807-add7-53fb573bc22e",
   "metadata": {},
   "outputs": [],
   "source": []
  }
 ],
 "metadata": {
  "kernelspec": {
   "display_name": "Python 3 (ipykernel)",
   "language": "python",
   "name": "python3"
  },
  "language_info": {
   "codemirror_mode": {
    "name": "ipython",
    "version": 3
   },
   "file_extension": ".py",
   "mimetype": "text/x-python",
   "name": "python",
   "nbconvert_exporter": "python",
   "pygments_lexer": "ipython3",
   "version": "3.13.5"
  }
 },
 "nbformat": 4,
 "nbformat_minor": 5
}
